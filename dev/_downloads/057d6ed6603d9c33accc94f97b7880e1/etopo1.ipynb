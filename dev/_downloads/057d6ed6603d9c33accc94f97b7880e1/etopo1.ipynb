{
  "cells": [
    {
      "cell_type": "code",
      "execution_count": null,
      "metadata": {
        "collapsed": false
      },
      "outputs": [],
      "source": [
        "%matplotlib inline"
      ]
    },
    {
      "cell_type": "markdown",
      "metadata": {},
      "source": [
        "\nETOPO1 Earth Relief\n===================\n\nETOPO1 is a 1 arc-minute global relief model of Earth's surface that integrates land\ntopography and ocean bathymetry [AmanteEakins2009]_. It's available in two versions:\n\"Ice Surface\" (top of Antarctic and Greenland ice sheets) and \"Bedrock\" (base of the ice\nsheets). The grids are loaded into :class:`xarray.Dataset` which can be used to plot\nand make computations.\n\n"
      ]
    },
    {
      "cell_type": "code",
      "execution_count": null,
      "metadata": {
        "collapsed": false
      },
      "outputs": [],
      "source": [
        "import rockhound as rh\nimport matplotlib.pyplot as plt\nimport cartopy.crs as ccrs\n\n# Load both the ice surface and bedrock grids and merge them into a single Dataset\ngrid = rh.fetch_etopo1(version=\"ice\")\ngrid = grid.merge(rh.fetch_etopo1(version=\"bedrock\"))\nprint(\"Entire dataset:\\n\\n\", grid)\n\n# Select a subset of this large grid that corresponds to Iceland and Greenland\niceland = grid.sel(latitude=slice(55, 80), longitude=slice(-50, -10))\nprint(\"\\nIceland subsection:\\n\\n\", iceland)\n\n# Make maps of both versions using an Albers Equal Area projection\nproj = ccrs.AlbersEqualArea(central_longitude=-30, central_latitude=67.5)\ntrans = ccrs.PlateCarree()\n\n# Setup some common arguments for the colorbar and pseudo-color plot\ncbar_kwargs = dict(pad=0, orientation=\"horizontal\")\npcolor_args = dict(cmap=\"terrain\", add_colorbar=False, transform=ccrs.PlateCarree())\n\n# Draw the maps\nfig, axes = plt.subplots(1, 2, figsize=(9, 5), subplot_kw=dict(projection=proj))\nfig.suptitle(\"ETOPO1 Earth Relief of Iceland and Greenland\")\nax = axes[0]\ntmp = iceland.ice.plot.pcolormesh(ax=ax, **pcolor_args)\nplt.colorbar(tmp, ax=ax, **cbar_kwargs).set_label(\"[meters]\")\nax.gridlines()\nax.set_title(\"Ice Surface\")\nax = axes[1]\ntmp = iceland.bedrock.plot.pcolormesh(ax=ax, **pcolor_args)\nplt.colorbar(tmp, ax=ax, **cbar_kwargs).set_label(\"[meters]\")\nax.gridlines()\nax.set_title(\"Bedrock\")\nplt.tight_layout()\nplt.show()"
      ]
    }
  ],
  "metadata": {
    "kernelspec": {
      "display_name": "Python 3",
      "language": "python",
      "name": "python3"
    },
    "language_info": {
      "codemirror_mode": {
        "name": "ipython",
        "version": 3
      },
      "file_extension": ".py",
      "mimetype": "text/x-python",
      "name": "python",
      "nbconvert_exporter": "python",
      "pygments_lexer": "ipython3",
      "version": "3.6.6"
    }
  },
  "nbformat": 4,
  "nbformat_minor": 0
}